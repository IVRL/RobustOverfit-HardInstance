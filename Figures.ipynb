{
 "cells": [
  {
   "cell_type": "markdown",
   "id": "85891121",
   "metadata": {},
   "source": [
    "# Figures in This Paper"
   ]
  },
  {
   "cell_type": "code",
   "execution_count": 1,
   "id": "e3e961f5",
   "metadata": {},
   "outputs": [],
   "source": [
    "import os\n",
    "import sys\n",
    "sys.path.insert(0, './')\n",
    "\n",
    "import matplotlib\n",
    "matplotlib.rcParams['pdf.fonttype'] = 42\n",
    "matplotlib.rcParams['ps.fonttype'] = 42\n",
    "matplotlib.rcParams.update({'font.size': 12})\n",
    "import matplotlib.pyplot as plt\n",
    "\n",
    "import json\n",
    "import numpy as np\n",
    "\n",
    "# Global Constants\n",
    "root_path = './models'\n",
    "analysis_path = root_path + '/analysis'\n",
    "casestudy_path = root_path + '/case_study'\n",
    "finetune_path = root_path + '/finetune'"
   ]
  },
  {
   "cell_type": "markdown",
   "id": "d9673504",
   "metadata": {},
   "source": [
    "## 4. Hard Instances Lead to Overfitting"
   ]
  },
  {
   "cell_type": "markdown",
   "id": "727e8125",
   "metadata": {},
   "source": [
    "### Figure 2: Training on a Subset"
   ]
  },
  {
   "cell_type": "code",
   "execution_count": null,
   "id": "9da279fc",
   "metadata": {},
   "outputs": [],
   "source": []
  }
 ],
 "metadata": {
  "kernelspec": {
   "display_name": "Python 3 (ipykernel)",
   "language": "python",
   "name": "python3"
  },
  "language_info": {
   "codemirror_mode": {
    "name": "ipython",
    "version": 3
   },
   "file_extension": ".py",
   "mimetype": "text/x-python",
   "name": "python",
   "nbconvert_exporter": "python",
   "pygments_lexer": "ipython3",
   "version": "3.9.12"
  }
 },
 "nbformat": 4,
 "nbformat_minor": 5
}
